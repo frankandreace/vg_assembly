{
 "cells": [
  {
   "cell_type": "code",
   "execution_count": 1,
   "id": "708a57e5",
   "metadata": {},
   "outputs": [],
   "source": [
    "from bdsg.bdsg import HashGraph\n",
    "from bdsg.bdsg import SnarlDistanceIndex\n",
    "from bdsg.bdsg import PackedGraph"
   ]
  },
  {
   "cell_type": "markdown",
   "id": "5843cc88",
   "metadata": {},
   "source": [
    "#### STEP 1: IMPORT THE DATA \n",
    "1. The graph in PackedGraph format (using ```vg convert -p``` ) \n",
    "2. The distance index for the snarl/chain tree"
   ]
  },
  {
   "cell_type": "code",
   "execution_count": 2,
   "id": "5264ae6e",
   "metadata": {},
   "outputs": [],
   "source": [
    "graph_path: str = 'test/test_graph.vg'\n",
    "index_path: str = 'test/test_idx.dist'"
   ]
  },
  {
   "cell_type": "code",
   "execution_count": 3,
   "id": "4a7c5bd7",
   "metadata": {},
   "outputs": [],
   "source": [
    "graph = PackedGraph()\n",
    "graph.deserialize(graph_path)\n",
    "# graph.deserialize('test.vg')\n",
    "\n",
    "\n",
    "idx = SnarlDistanceIndex()\n",
    "idx.deserialize(index_path)\n",
    "# idx.deserialize('idx.dist')"
   ]
  },
  {
   "cell_type": "markdown",
   "id": "0d042a39",
   "metadata": {},
   "source": [
    "##### TEST 1: CHECK HOW THE TREE STRUCTURE WORKS. \n",
    "1. In theory the root of the tree is going to be a chain.\n",
    "2. I iterate over its children and if I find a snarl, I check if it is a leaf snarl.\n",
    "3. Each snarl has as a child a chain. If the children of the chain are not snarls, it is a leaf snarl.\n",
    "4. Else if it has other snarls, I keep iterating until I find the leaf snarl.\n",
    "\n",
    "\n",
    "Which functions do I need?\n",
    "1. from a chain, traverse its children. \n",
    "2. If find a snarl. Iterate over its children (chains(s)).\n",
    "3. If the childern of the chain of the snarl are all nodes, append the snarl to the list;\n",
    "4. Else go to 2."
   ]
  },
  {
   "cell_type": "code",
   "execution_count": 4,
   "id": "c16b3ab5",
   "metadata": {},
   "outputs": [],
   "source": [
    "root_handle = idx.get_root()"
   ]
  },
  {
   "cell_type": "code",
   "execution_count": 5,
   "id": "6b6403e2",
   "metadata": {},
   "outputs": [
    {
     "name": "stdout",
     "output_type": "stream",
     "text": [
      "printing out\n",
      "simple snarl 6rev->5revtraversing start->end\n",
      "Start Bound ID: 6, is_reverse: True\n",
      "End Bound ID: 5, is_reverse: True\n",
      "snarl 5rev->3revtraversing start->end\n",
      "Start Bound ID: 5, is_reverse: True\n",
      "End Bound ID: 3, is_reverse: True\n",
      "simple snarl 6rev->5revtraversing start->end\n",
      "snarl 5rev->3revtraversing start->end\n"
     ]
    }
   ],
   "source": [
    "leaf_snarls = [] \n",
    "contains_child_snarls = False\n",
    "num_nodes = 0\n",
    "\n",
    "def check_for_snarl(child_net_handle):\n",
    "    global contains_child_snarls\n",
    "    global num_nodes\n",
    "    if idx.is_snarl(child_net_handle):\n",
    "        contains_child_snarls = True\n",
    "    elif idx.is_node(child_net_handle):\n",
    "        num_nodes += 1\n",
    "    return True\n",
    "\n",
    "# THIS FUNCTION TAKES A SNARL. FOR EACH CHILD (CHAIN) OF THE SNARL, CHECK THEIR CHILDREN. \n",
    "# IF NO ONE HAS A SNARL, THE SNARL IS A LEAF\n",
    "def snarl_iteratee(handle):\n",
    "    global contains_child_snarls\n",
    "    contains_child_snarls = False\n",
    "    snarl_children = []\n",
    "    idx.for_each_child(handle, lambda y: snarl_children.append(y) or True) \n",
    "    \n",
    "    num_nodes = 0\n",
    "    for s_c in snarl_children:\n",
    "        idx.for_each_child(s_c, check_for_snarl)\n",
    "    \n",
    "    if ((not contains_child_snarls) and (num_nodes < 10)):\n",
    "        leaf_snarls.append(handle)\n",
    "    return True\n",
    "idx.traverse_decomposition(snarl_iteratee, lambda x: True, lambda y: True)\n",
    "# THIS FUNCTION TAKES A SNARL. IF IT HAS MORE THAN 1 CHILD, IT MEANS IT IS A LEAF\n",
    "# THIS FROM THE INTUITION THAT AN INTERNAL SNARLS HAS AS 1 CHILD THAT IS A CHAIN OF NODES AND SNARL(S)\n",
    "# NOT SURE IT IS TRUE ALWAYS\n",
    "def snarl_inf(handle):\n",
    "    snarl_children = []\n",
    "    idx.for_each_child(handle, lambda y: snarl_children.append(y) or True)\n",
    "    \n",
    "    if len(snarl_children) > 1:\n",
    "        leaf_snarls_inf.append(handle)\n",
    "    return True\n",
    "\n",
    "\n",
    "leaf_snarls_inf = [] \n",
    "idx.traverse_decomposition(snarl_inf, lambda x: True, lambda y: True)\n",
    "\n",
    "print('printing out')\n",
    "for el in leaf_snarls:\n",
    "    print(idx.net_handle_as_string(el))\n",
    "    start_bound = idx.get_start_bound(el)\n",
    "    end_bound = idx.get_end_bound(el)\n",
    "\n",
    "    # Inspect the orientations\n",
    "    print(f\"Start Bound ID: {graph.get_id(idx.get_handle(start_bound, graph))}, is_reverse: {graph.get_is_reverse(idx.get_handle(start_bound, graph))}\")\n",
    "    print(f\"End Bound ID: {graph.get_id(idx.get_handle(end_bound, graph))}, is_reverse: {graph.get_is_reverse(idx.get_handle(end_bound, graph))}\")\n",
    "    \n",
    "for el in leaf_snarls_inf:\n",
    "    print(idx.net_handle_as_string(el))"
   ]
  },
  {
   "cell_type": "markdown",
   "id": "ab9df5d3",
   "metadata": {},
   "source": [
    "#### STEP 2: GENERATE THE ANCHOR DICTIONARY\n",
    "1. Traverse the SNARL TREE, using ```index.traverse_decomposition```\n",
    "2. When detecting a LEAF SNARL, PASS IT TO THE SNARL CONSTRUCTION\n",
    "3.  When detecting a LEAF SNARL:\n",
    "    1. The snarl has to contain less than X = 10 elements; X is a parameter. \n",
    "    2. The number of paths passing by the snarl has to be > MIN and < MAX. Both parameters \n",
    "    3. For each path in the snarl, "
   ]
  },
  {
   "cell_type": "code",
   "execution_count": 6,
   "id": "2ba31248",
   "metadata": {},
   "outputs": [],
   "source": [
    "import sys\n",
    "sys.path.append('./assembler')\n",
    "from anchor import SnarlAnchor"
   ]
  },
  {
   "cell_type": "code",
   "execution_count": 7,
   "id": "acdecce1",
   "metadata": {},
   "outputs": [],
   "source": [
    "anchoring = SnarlAnchor(10)"
   ]
  },
  {
   "cell_type": "code",
   "execution_count": 8,
   "id": "22dc4732",
   "metadata": {},
   "outputs": [],
   "source": [
    "anchoring.build_graph(graph_path, index_path)"
   ]
  },
  {
   "cell_type": "code",
   "execution_count": 9,
   "id": "e4014550",
   "metadata": {},
   "outputs": [
    {
     "name": "stdout",
     "output_type": "stream",
     "text": [
      "Visiting snarl 2rev->1revtraversing start->end\n",
      "Children: node 6rev has #nodes: 1 and has_snarls is: False\n",
      "Children: simple snarl 6rev->5revtraversing start->end has #nodes: 1 and has_snarls is: True\n",
      "Children: node 5rev has #nodes: 2 and has_snarls is: True\n",
      "Children: snarl 5rev->3revtraversing start->end has #nodes: 2 and has_snarls is: True\n",
      "Children: node 3rev has #nodes: 3 and has_snarls is: True\n",
      "Visiting simple snarl 6rev->5revtraversing start->end\n",
      "Children: node 9fd has #nodes: 1 and has_snarls is: False\n",
      "Children: node 10fd has #nodes: 2 and has_snarls is: False\n",
      "Visiting snarl 5rev->3revtraversing start->end\n",
      "Children: node 4fd has #nodes: 1 and has_snarls is: False\n",
      "Children: node 8fd has #nodes: 2 and has_snarls is: False\n",
      "Children: node 7fd has #nodes: 3 and has_snarls is: False\n"
     ]
    }
   ],
   "source": [
    "leaf_snarl_net_handles: list = anchoring.process_snarls()"
   ]
  },
  {
   "cell_type": "code",
   "execution_count": 16,
   "id": "44fcddf1",
   "metadata": {},
   "outputs": [
    {
     "name": "stdout",
     "output_type": "stream",
     "text": [
      "simple snarl 6rev->5revtraversing start->end\n",
      "node 9fd,node 10fd,\n",
      "snarl 5rev->3revtraversing start->end\n",
      "node 4fd,node 8fd,node 7fd,\n"
     ]
    }
   ],
   "source": [
    "for el in leaf_snarl_net_handles:\n",
    "    print(idx.net_handle_as_string(el[0]))\n",
    "    for n in el[1]:\n",
    "        print(idx.net_handle_as_string(n), end=\",\")\n",
    "    print()"
   ]
  },
  {
   "cell_type": "code",
   "execution_count": 11,
   "id": "abfa1426",
   "metadata": {},
   "outputs": [
    {
     "data": {
      "text/plain": [
       "[(<bdsg.handlegraph.net_handle_t at 0x7fb8b40888b0>,\n",
       "  [<bdsg.handlegraph.net_handle_t at 0x7fb8b4056830>,\n",
       "   <bdsg.handlegraph.net_handle_t at 0x7fb8b4057270>]),\n",
       " (<bdsg.handlegraph.net_handle_t at 0x7fb8b4056d70>,\n",
       "  [<bdsg.handlegraph.net_handle_t at 0x7fb8b4055e30>,\n",
       "   <bdsg.handlegraph.net_handle_t at 0x7fb8b4057530>,\n",
       "   <bdsg.handlegraph.net_handle_t at 0x7fb8b4056a30>])]"
      ]
     },
     "execution_count": 11,
     "metadata": {},
     "output_type": "execute_result"
    }
   ],
   "source": [
    "leaf_snarl_net_handles"
   ]
  },
  {
   "cell_type": "code",
   "execution_count": 12,
   "id": "b9572cd4",
   "metadata": {},
   "outputs": [
    {
     "name": "stdout",
     "output_type": "stream",
     "text": [
      "Chain: chain 2rev->1revtraversing start->end\n",
      "Node: node 2rev\n",
      "Snarl: snarl 2rev->1revtraversing start->end\n",
      "Chain: chain 6rev->3revtraversing start->end\n",
      "Node: node 6rev\n",
      "Snarl: simple snarl 6rev->5revtraversing start->end\n",
      "Chain: node 9fd pretending to be a chain in a simple snarl\n",
      "Node: node 9fd\n",
      "Chain: node 10fd pretending to be a chain in a simple snarl\n",
      "Node: node 10fd\n",
      "Node: node 5rev\n",
      "Snarl: snarl 5rev->3revtraversing start->end\n",
      "Chain: node 4fd pretending to be a chain\n",
      "Node: node 4fd\n",
      "Chain: node 8fd pretending to be a chain\n",
      "Node: node 8fd\n",
      "Chain: node 7fd pretending to be a chain\n",
      "Node: node 7fd\n",
      "Node: node 3rev\n",
      "Node: node 1rev\n"
     ]
    }
   ],
   "source": [
    "anchoring.print_tree_structure()"
   ]
  },
  {
   "cell_type": "code",
   "execution_count": null,
   "id": "f591a43b",
   "metadata": {},
   "outputs": [],
   "source": []
  }
 ],
 "metadata": {
  "kernelspec": {
   "display_name": "Python 3 (ipykernel)",
   "language": "python",
   "name": "python3"
  },
  "language_info": {
   "codemirror_mode": {
    "name": "ipython",
    "version": 3
   },
   "file_extension": ".py",
   "mimetype": "text/x-python",
   "name": "python",
   "nbconvert_exporter": "python",
   "pygments_lexer": "ipython3",
   "version": "3.10.13"
  }
 },
 "nbformat": 4,
 "nbformat_minor": 5
}
