{
 "cells": [
  {
   "cell_type": "code",
   "execution_count": null,
   "id": "cd3c0cf8",
   "metadata": {},
   "outputs": [],
   "source": [
    "import sys\n",
    "sys.path.append('./assembler')\n",
    "from flow_handler import Orchestrator\n",
    "from anchor_dictionary_builder import SnarlAnchor"
   ]
  },
  {
   "cell_type": "markdown",
   "id": "edcc0321",
   "metadata": {},
   "source": [
    "#### STEP 1: IMPORT THE DATA \n",
    "1. The graph in PackedGraph format (using ```vg convert -p``` ) \n",
    "2. The distance index for the snarl/chain tree"
   ]
  },
  {
   "cell_type": "code",
   "execution_count": null,
   "id": "bfc94082",
   "metadata": {},
   "outputs": [],
   "source": [
    "graph_path: str = 'small_test/graph.vg'\n",
    "index_path: str = 'small_test/graph.dist'\n",
    "dict_path: str = 'small_test/graph.dict'\n",
    "sample_alignment: str = 'small_test/path_test.gaf'"
   ]
  },
  {
   "cell_type": "code",
   "execution_count": null,
   "id": "3ac95467",
   "metadata": {},
   "outputs": [],
   "source": [
    "dictionary_builder = SnarlAnchor()\n",
    "# Assume you have a method to build the dictionary\n",
    "dictionary_builder.build_graph(graph_path, index_path)\n",
    "dictionary_builder.fill_anchor_sentinel_table()\n",
    "dictionary = dictionary_builder.get_dict()"
   ]
  },
  {
   "cell_type": "code",
   "execution_count": null,
   "id": "21f81f94",
   "metadata": {},
   "outputs": [],
   "source": [
    "orchestrator = Orchestrator(dictionary, graph_path, sample_alignment)"
   ]
  },
  {
   "cell_type": "code",
   "execution_count": null,
   "id": "5daef00a",
   "metadata": {},
   "outputs": [],
   "source": [
    "orchestrator.process()"
   ]
  }
 ],
 "metadata": {
  "kernelspec": {
   "display_name": "Python 3 (ipykernel)",
   "language": "python",
   "name": "python3"
  },
  "language_info": {
   "codemirror_mode": {
    "name": "ipython",
    "version": 3
   },
   "file_extension": ".py",
   "mimetype": "text/x-python",
   "name": "python",
   "nbconvert_exporter": "python",
   "pygments_lexer": "ipython3",
   "version": "3.10.13"
  }
 },
 "nbformat": 4,
 "nbformat_minor": 5
}
