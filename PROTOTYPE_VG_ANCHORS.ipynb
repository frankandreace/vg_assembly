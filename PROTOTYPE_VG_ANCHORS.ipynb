{
 "cells": [
  {
   "cell_type": "code",
   "execution_count": 1,
   "id": "708a57e5",
   "metadata": {},
   "outputs": [],
   "source": [
    "from bdsg.bdsg import HashGraph\n",
    "from bdsg.bdsg import SnarlDistanceIndex\n",
    "from bdsg.bdsg import PackedGraph"
   ]
  },
  {
   "cell_type": "code",
   "execution_count": 2,
   "id": "0f688814",
   "metadata": {},
   "outputs": [],
   "source": [
    "import sys\n",
    "sys.path.append('./assembler')\n",
    "from anchor import SnarlAnchor"
   ]
  },
  {
   "cell_type": "markdown",
   "id": "5843cc88",
   "metadata": {},
   "source": [
    "#### STEP 1: IMPORT THE DATA \n",
    "1. The graph in PackedGraph format (using ```vg convert -p``` ) \n",
    "2. The distance index for the snarl/chain tree"
   ]
  },
  {
   "cell_type": "code",
   "execution_count": 3,
   "id": "5264ae6e",
   "metadata": {},
   "outputs": [],
   "source": [
    "graph_path: str = 'small_test/graph.vg'#'small_test/chr20_small_idx.vg'\n",
    "index_path: str = 'small_test/graph.dist'#'small_test/chr20_small_idx.dist'"
   ]
  },
  {
   "cell_type": "code",
   "execution_count": null,
   "id": "4a7c5bd7",
   "metadata": {},
   "outputs": [],
   "source": [
    "graph = PackedGraph()\n",
    "graph.deserialize(graph_path) # .vg\n",
    "\n",
    "\n",
    "idx = SnarlDistanceIndex()\n",
    "idx.deserialize(index_path) # .dist"
   ]
  },
  {
   "cell_type": "markdown",
   "id": "0d042a39",
   "metadata": {},
   "source": [
    "##### TEST 1: CHECK HOW THE TREE STRUCTURE WORKS. \n",
    "1. In theory the root of the tree is going to be a chain.\n",
    "2. I iterate over its children and if I find a snarl, I check if it is a leaf snarl.\n",
    "3. Each snarl has as a child a chain. If the children of the chain are not snarls, it is a leaf snarl.\n",
    "4. Else if it has other snarls, I keep iterating until I find the leaf snarl.\n",
    "\n",
    "\n",
    "Which functions do I need?\n",
    "1. from a chain, traverse its children. \n",
    "2. If find a snarl. Iterate over its children (chains(s)).\n",
    "3. If the childern of the chain of the snarl are all nodes, append the snarl to the list;\n",
    "4. Else go to 2."
   ]
  },
  {
   "cell_type": "code",
   "execution_count": null,
   "id": "c16b3ab5",
   "metadata": {},
   "outputs": [],
   "source": [
    "root_handle = idx.get_root()"
   ]
  },
  {
   "cell_type": "code",
   "execution_count": null,
   "id": "6b6403e2",
   "metadata": {},
   "outputs": [],
   "source": [
    "leaf_snarls = [] \n",
    "contains_child_snarls = False\n",
    "num_nodes = 0\n",
    "\n",
    "def check_for_snarl(child_net_handle):\n",
    "    global contains_child_snarls\n",
    "    global num_nodes\n",
    "    if idx.is_snarl(child_net_handle):\n",
    "        contains_child_snarls = True\n",
    "    elif idx.is_node(child_net_handle):\n",
    "        num_nodes += 1\n",
    "    return True\n",
    "\n",
    "# THIS FUNCTION TAKES A SNARL. FOR EACH CHILD (CHAIN) OF THE SNARL, CHECK THEIR CHILDREN. \n",
    "# IF NO ONE HAS A SNARL, THE SNARL IS A LEAF\n",
    "def snarl_iteratee(handle):\n",
    "    global contains_child_snarls\n",
    "    contains_child_snarls = False\n",
    "    snarl_children = []\n",
    "    idx.for_each_child(handle, lambda y: snarl_children.append(y) or True) \n",
    "    \n",
    "    num_nodes = 0\n",
    "    for s_c in snarl_children:\n",
    "        idx.for_each_child(s_c, check_for_snarl)\n",
    "    \n",
    "    if ((not contains_child_snarls) and (num_nodes < 10)):\n",
    "        leaf_snarls.append(handle)\n",
    "    return True\n",
    "idx.traverse_decomposition(snarl_iteratee, lambda x: True, lambda y: True)\n",
    "# THIS FUNCTION TAKES A SNARL. IF IT HAS MORE THAN 1 CHILD, IT MEANS IT IS A LEAF\n",
    "# THIS FROM THE INTUITION THAT AN INTERNAL SNARLS HAS AS 1 CHILD THAT IS A CHAIN OF NODES AND SNARL(S)\n",
    "# NOT SURE IT IS TRUE ALWAYS\n",
    "def snarl_inf(handle):\n",
    "    snarl_children = []\n",
    "    idx.for_each_child(handle, lambda y: snarl_children.append(y) or True)\n",
    "    \n",
    "    if len(snarl_children) > 1:\n",
    "        leaf_snarls_inf.append(handle)\n",
    "    return True\n",
    "\n",
    "\n",
    "leaf_snarls_inf = [] \n",
    "idx.traverse_decomposition(snarl_inf, lambda x: True, lambda y: True)\n",
    "\n",
    "print('printing out')\n",
    "for el in leaf_snarls:\n",
    "    print(idx.net_handle_as_string(el))\n",
    "    start_bound = idx.get_start_bound(el)\n",
    "    end_bound = idx.get_end_bound(el)\n",
    "\n",
    "    # Inspect the orientations\n",
    "    print(f\"Start Bound ID: {graph.get_id(idx.get_handle(start_bound, graph))}, is_reverse: {graph.get_is_reverse(idx.get_handle(start_bound, graph))}\")\n",
    "    print(f\"End Bound ID: {graph.get_id(idx.get_handle(end_bound, graph))}, is_reverse: {graph.get_is_reverse(idx.get_handle(end_bound, graph))}\")\n",
    "    \n",
    "for el in leaf_snarls_inf:\n",
    "    print(idx.net_handle_as_string(el))"
   ]
  },
  {
   "cell_type": "markdown",
   "id": "ab9df5d3",
   "metadata": {},
   "source": [
    "#### STEP 2: GENERATE THE ANCHOR DICTIONARY\n",
    "1. Traverse the SNARL TREE, using ```index.traverse_decomposition```\n",
    "2. When detecting a LEAF SNARL, PASS IT TO THE SNARL CONSTRUCTION\n",
    "3.  When detecting a LEAF SNARL:\n",
    "    1. The snarl has to contain less than X = 10 elements; X is a parameter. \n",
    "    2. The number of paths passing by the snarl has to be > MIN and < MAX. Both parameters \n",
    "    3. For each path in the snarl, "
   ]
  },
  {
   "cell_type": "code",
   "execution_count": null,
   "id": "acdecce1",
   "metadata": {},
   "outputs": [],
   "source": [
    "anchoring = SnarlAnchor(10)"
   ]
  },
  {
   "cell_type": "code",
   "execution_count": null,
   "id": "22dc4732",
   "metadata": {},
   "outputs": [],
   "source": [
    "anchoring.build_graph(graph_path, index_path)"
   ]
  },
  {
   "cell_type": "code",
   "execution_count": null,
   "id": "e4014550",
   "metadata": {},
   "outputs": [],
   "source": [
    "leaf_snarl_net_handles: list = anchoring.get_leaf_snarls()"
   ]
  },
  {
   "cell_type": "code",
   "execution_count": null,
   "id": "abfa1426",
   "metadata": {},
   "outputs": [],
   "source": [
    "leaf_snarl_net_handles"
   ]
  },
  {
   "cell_type": "code",
   "execution_count": null,
   "id": "b9572cd4",
   "metadata": {},
   "outputs": [],
   "source": [
    "anchoring.print_tree_structure()"
   ]
  },
  {
   "cell_type": "code",
   "execution_count": null,
   "id": "f591a43b",
   "metadata": {},
   "outputs": [],
   "source": [
    "one_snarl = leaf_snarl_net_handles[0]\n",
    "# get the start and end bounds (net handles)\n",
    "start_bound = idx.get_start_bound(one_snarl)\n",
    "end_bound = idx.get_end_bound(one_snarl)\n",
    "print(f\"Start bound is {idx.net_handle_as_string(start_bound)}\")\n",
    "\n",
    "# get node handles and orientations \n",
    "start_node_id = idx.node_id(start_bound)\n",
    "start_node_handle = idx.get_handle(start_bound,graph)\n",
    "end_node_id = idx.node_id(end_bound)\n",
    "end_node_handle = idx.get_handle(end_bound,graph)\n",
    "\n",
    "# check if they are in reverse orientation\n",
    "start_is_reverse = graph.get_is_reverse(start_node_handle)\n",
    "end_is_reverse = graph.get_is_reverse(end_node_handle)\n",
    "\n",
    "# print info\n",
    "start_direction = \"reverse\" if start_is_reverse else \"forward\"\n",
    "end_direction = \"reverse\" if end_is_reverse else \"forward\"\n",
    "\n",
    "print(f\"Start node of snarl: {start_node_id}, Direction: {start_direction}\")\n",
    "print(f\"End node of snarl: {end_node_id}, Direction: {end_direction}\")\n",
    "# print(start_node_id, end_node_id)"
   ]
  },
  {
   "cell_type": "code",
   "execution_count": null,
   "id": "76125ae4",
   "metadata": {},
   "outputs": [],
   "source": [
    "graph_id = graph.get_id(start_node_handle)"
   ]
  },
  {
   "cell_type": "code",
   "execution_count": null,
   "id": "1bcf112a",
   "metadata": {},
   "outputs": [],
   "source": [
    "graph_id"
   ]
  },
  {
   "cell_type": "code",
   "execution_count": null,
   "id": "b6a8b6b8",
   "metadata": {},
   "outputs": [],
   "source": [
    "steps_on_start_node = []\n",
    "graph.for_each_step_on_handle(start_node_handle, lambda y: steps_on_start_node.append(y) or True)"
   ]
  },
  {
   "cell_type": "code",
   "execution_count": null,
   "id": "98510404",
   "metadata": {},
   "outputs": [],
   "source": [
    "steps_on_start_node"
   ]
  },
  {
   "cell_type": "code",
   "execution_count": null,
   "id": "747cd0c9",
   "metadata": {},
   "outputs": [],
   "source": [
    "path_handles = []\n",
    "path_names = []\n",
    "for step in steps_on_start_node:\n",
    "    path_handle = graph.get_path_handle_of_step(step)\n",
    "    path_handles.append(path_handle)\n",
    "    path_name = graph.get_path_name(path_handle)\n",
    "    path_names.append(path_name)\n"
   ]
  },
  {
   "cell_type": "code",
   "execution_count": null,
   "id": "6423b9fe",
   "metadata": {
    "scrolled": true
   },
   "outputs": [],
   "source": [
    "path_names"
   ]
  },
  {
   "cell_type": "code",
   "execution_count": null,
   "id": "e6e76642",
   "metadata": {
    "scrolled": false
   },
   "outputs": [],
   "source": [
    "path_1_handle = path_handles[0]\n",
    "path_1_name = path_names[0]\n",
    "\n",
    "sentinels = [graph.get_id(end_node_handle), graph.get_id(start_node_handle)] \\\n",
    "    if start_is_reverse else [graph.get_id(start_node_handle), graph.get_id(end_node_handle)]\n",
    "print(sentinels[0],sentinels[1])\n",
    "print(f\"Walking on path {path_1_name}\")\n",
    "\n",
    "# Step 3: Traverse all the steps on the path using for_each_step_in_path\n",
    "def traverse_step(step_handle):\n",
    "    # For each step, get the corresponding node handle (handle_t)\n",
    "    node_handle = graph.get_handle_of_step(step_handle)\n",
    "    # Get information about this node\n",
    "    node_id = graph.get_id(node_handle)\n",
    "    print(f\"visiting {node_id}\", end=\": \")\n",
    "    global keep\n",
    "    if not keep and node_id not in sentinels:\n",
    "        print('skipped.')\n",
    "        return True\n",
    "    \n",
    "    node_sequence = graph.get_sequence(node_handle)\n",
    "    is_reversed = graph.get_is_reverse(node_handle)\n",
    "    traversal.append((node_id,not(is_reversed)))\n",
    "    direction = \"reverse\" if is_reversed else \"forward\"\n",
    "    print('visited.')\n",
    "    \n",
    "    # Output the node details and whether it's traversed forward or reverse\n",
    "    print(f\"Node {node_id}, Sequence: {node_sequence}, Traversed in {direction} direction\")\n",
    "    if keep and node_id in sentinels:\n",
    "        print('ending visit.')\n",
    "        keep = False\n",
    "        return False\n",
    "    \n",
    "    keep = True\n",
    "    return True  # Continue traversing\n",
    "\n",
    "\n",
    "\n",
    "# Traverse the entire path and process each step\n",
    "traversals = []\n",
    "traversal = []\n",
    "keep = False\n",
    "\n",
    "for path_h in path_handles:\n",
    "    graph.for_each_step_in_path(path_h, traverse_step)\n",
    "    traversals.append(traversal)\n",
    "    traversal = []"
   ]
  },
  {
   "cell_type": "code",
   "execution_count": null,
   "id": "7aa8d876",
   "metadata": {},
   "outputs": [],
   "source": [
    "def print_traversal(trv):\n",
    "    for node in trv:\n",
    "        direction = \">\" if node[1] == True else \"<\"\n",
    "        print(f\"{direction}{node[0]}\",end=\"\")\n",
    "    print()\n",
    "\n",
    "for pt,trv in zip(path_names,traversals):\n",
    "    print(f\"{pt}: \",end=\"\")\n",
    "    print_traversal(trv)"
   ]
  },
  {
   "cell_type": "code",
   "execution_count": null,
   "id": "b144ef48",
   "metadata": {},
   "outputs": [],
   "source": [
    "def get_anchor_id(traversal):\n",
    "    anchor = traversal[len(traversal)//2][0]\n",
    "    return anchor\n",
    "        "
   ]
  },
  {
   "cell_type": "code",
   "execution_count": null,
   "id": "5829a2ab",
   "metadata": {
    "scrolled": true
   },
   "outputs": [],
   "source": [
    "for trv in traversals:\n",
    "    print(get_anchor_id(trv), end=\" \")\n",
    "    print_traversal(trv)"
   ]
  },
  {
   "cell_type": "code",
   "execution_count": null,
   "id": "ede9ef93",
   "metadata": {},
   "outputs": [],
   "source": [
    "def is_equal_path(path_1,path_2):\n",
    "    #if different length, false\n",
    "    if len(path_1) != len(path_2):\n",
    "        return False\n",
    "    \n",
    "    #start at 0\n",
    "    pos_path_1 = 0 if path_1[0][1] else len(path_1) - 1\n",
    "    pos_path_2 = 0 if path_2[0][1] else len(path_2) - 1\n",
    "    for i in range(len(path_1)):\n",
    "        start1,orientation1 = path_1[pos_path_1]\n",
    "        start2,orientation2 = path_2[pos_path_2]\n",
    "        if start1 == start2 and orientation1 == orientation2:\n",
    "            continue\n",
    "        else: return False\n",
    "    return True"
   ]
  },
  {
   "cell_type": "code",
   "execution_count": null,
   "id": "31e5a797",
   "metadata": {},
   "outputs": [],
   "source": [
    "paths_dict = dict()\n",
    "for trv in traversals:\n",
    "    anchor = get_anchor_id(trv)\n",
    "    print(f\"{anchor}:\", end=\" \")\n",
    "    print_traversal(trv)\n",
    "    \n",
    "    if anchor not in paths_dict:\n",
    "        paths_dict[anchor] = [trv]\n",
    "    else:\n",
    "        possible_paths = paths_dict[anchor]\n",
    "        insert = True\n",
    "        for pts in possible_paths:\n",
    "            if is_equal_path(trv,pts):\n",
    "                insert = False\n",
    "                print(\"not accepted\")\n",
    "                break\n",
    "        if insert:\n",
    "            paths_dict[anchor].append(trv)\n",
    "        \n",
    "        \n",
    "print(paths_dict)"
   ]
  },
  {
   "cell_type": "code",
   "execution_count": null,
   "id": "98402108",
   "metadata": {},
   "outputs": [],
   "source": [
    "snarl_traversals = anchoring.get_paths_traversing_snarl(one_snarl)"
   ]
  },
  {
   "cell_type": "code",
   "execution_count": null,
   "id": "1ea48bc8",
   "metadata": {},
   "outputs": [],
   "source": [
    "snarl_traversals"
   ]
  },
  {
   "cell_type": "code",
   "execution_count": null,
   "id": "b290d462",
   "metadata": {},
   "outputs": [],
   "source": [
    "for trvrsl in snarl_traversals:\n",
    "    anchor_length = 0\n",
    "    for node_handle in trvrsl:\n",
    "        anchor_length += graph.get_length(node_handle)\n",
    "        print(f'tmp_al: {anchor_length}', end = \" \")\n",
    "    anchor_length -= (graph.get_length(trvrsl[0]) + graph.get_length(trvrsl[len(trvrsl) - 1]))// 2\n",
    "    print(f'final_al: {anchor_length}')"
   ]
  },
  {
   "cell_type": "code",
   "execution_count": null,
   "id": "3c9a18f8",
   "metadata": {},
   "outputs": [],
   "source": [
    "for trvrsl in snarl_traversals:\n",
    "    anchoring.print_traversal(trvrsl)"
   ]
  },
  {
   "cell_type": "code",
   "execution_count": null,
   "id": "2998c47b",
   "metadata": {},
   "outputs": [],
   "source": [
    "\n",
    "\n",
    "tr1,tr2 = snarl_traversals[2:4]\n",
    "\n",
    "for i in range(len(tr1)):\n",
    "    node_h_tr1 = tr1[i]\n",
    "    node_h_tr2 = tr2[i]\n",
    "    direction = \"<\" if graph.get_is_reverse(node_h_tr1) == True else \">\"\n",
    "    print(f\"TR1: {direction}{graph.get_id(node_h_tr1)}\",end=\" - \")\n",
    "    direction = \"<\" if graph.get_is_reverse(node_h_tr2) == True else \">\"\n",
    "    print(f\"TR2: {direction}{graph.get_id(node_h_tr2)}\",end=\" - \")\n",
    "    if tr1[i] == tr2[i]:\n",
    "        print(\"equals\")\n",
    "    else:\n",
    "        print(\"not_equals\")\n",
    "    "
   ]
  },
  {
   "cell_type": "code",
   "execution_count": null,
   "id": "48bb40d0",
   "metadata": {},
   "outputs": [],
   "source": [
    "anchoring.fill_anchor_sentinel_table(one_snarl)"
   ]
  },
  {
   "cell_type": "code",
   "execution_count": null,
   "id": "543cf132",
   "metadata": {},
   "outputs": [],
   "source": [
    "anchoring.sentinel_to_anchor"
   ]
  },
  {
   "cell_type": "markdown",
   "id": "27bb9103",
   "metadata": {},
   "source": [
    "##### TESTING ON A 500 bases real window from chromosome 20 (5000 bps from start of chm13)\n",
    "1. Load indexes\n",
    "2. generate snarls list\n",
    "3. generate anchor dictionary"
   ]
  },
  {
   "cell_type": "code",
   "execution_count": 4,
   "id": "90af7e94",
   "metadata": {},
   "outputs": [],
   "source": [
    "anchoring = SnarlAnchor(10)\n",
    "anchoring.build_graph(graph_path, index_path)"
   ]
  },
  {
   "cell_type": "code",
   "execution_count": 5,
   "id": "f4214d3b",
   "metadata": {},
   "outputs": [
    {
     "name": "stdout",
     "output_type": "stream",
     "text": [
      "Chain: chain 2367365rev->2367337revtraversing start->end\n",
      "Node: node 2367365rev\n",
      "Snarl: simple snarl 2367365rev->2367362revtraversing start->end\n",
      "Chain: node 2367364fd pretending to be a chain in a simple snarl\n",
      "Node: node 2367364fd\n",
      "Chain: node 2367363fd pretending to be a chain in a simple snarl\n",
      "Node: node 2367363fd\n",
      "Node: node 2367362rev\n",
      "Snarl: simple snarl 2367362rev->2367359revtraversing start->end\n",
      "Chain: node 2367360fd pretending to be a chain in a simple snarl\n",
      "Node: node 2367360fd\n",
      "Chain: node 2367361fd pretending to be a chain in a simple snarl\n",
      "Node: node 2367361fd\n",
      "Node: node 2367359rev\n",
      "Node: node 2367358rev\n",
      "Snarl: simple snarl 2367358rev->2367356revtraversing start->end\n",
      "Chain: node 2367357fd pretending to be a chain in a simple snarl\n",
      "Node: node 2367357fd\n",
      "Node: node 2367356rev\n",
      "Snarl: simple snarl 2367356rev->2367353revtraversing start->end\n",
      "Chain: node 2367354fd pretending to be a chain in a simple snarl\n",
      "Node: node 2367354fd\n",
      "Chain: node 2367355fd pretending to be a chain in a simple snarl\n",
      "Node: node 2367355fd\n",
      "Node: node 2367353rev\n",
      "Snarl: simple snarl 2367353rev->2367350revtraversing start->end\n",
      "Chain: node 2367351fd pretending to be a chain in a simple snarl\n",
      "Node: node 2367351fd\n",
      "Chain: node 2367352fd pretending to be a chain in a simple snarl\n",
      "Node: node 2367352fd\n",
      "Node: node 2367350rev\n",
      "Snarl: simple snarl 2367350rev->2367347revtraversing start->end\n",
      "Chain: node 2367348fd pretending to be a chain in a simple snarl\n",
      "Node: node 2367348fd\n",
      "Chain: node 2367349fd pretending to be a chain in a simple snarl\n",
      "Node: node 2367349fd\n",
      "Node: node 2367347rev\n",
      "Node: node 2367346rev\n",
      "Snarl: simple snarl 2367346rev->2367343revtraversing start->end\n",
      "Chain: node 2367344fd pretending to be a chain in a simple snarl\n",
      "Node: node 2367344fd\n",
      "Chain: node 2367345fd pretending to be a chain in a simple snarl\n",
      "Node: node 2367345fd\n",
      "Node: node 2367343rev\n",
      "Snarl: simple snarl 2367343rev->2367341revtraversing start->end\n",
      "Chain: node 2367342fd pretending to be a chain in a simple snarl\n",
      "Node: node 2367342fd\n",
      "Node: node 2367341rev\n",
      "Snarl: simple snarl 2367341rev->2367339revtraversing start->end\n",
      "Chain: node 2367340fd pretending to be a chain in a simple snarl\n",
      "Node: node 2367340fd\n",
      "Node: node 2367339rev\n",
      "Snarl: simple snarl 2367339rev->2367337revtraversing start->end\n",
      "Chain: node 2367338fd pretending to be a chain in a simple snarl\n",
      "Node: node 2367338fd\n",
      "Node: node 2367337rev\n"
     ]
    }
   ],
   "source": [
    "anchoring.print_tree_structure()"
   ]
  },
  {
   "cell_type": "code",
   "execution_count": 6,
   "id": "4df264d5",
   "metadata": {},
   "outputs": [
    {
     "name": "stdout",
     "output_type": "stream",
     "text": [
      "Visiting simple snarl 2367365rev->2367362revtraversing start->end\n",
      "Children: node 2367364fd has #nodes: 1 and has_snarls is: False\n",
      "Children: node 2367363fd has #nodes: 2 and has_snarls is: False\n",
      "Visiting simple snarl 2367362rev->2367359revtraversing start->end\n",
      "Children: node 2367360fd has #nodes: 1 and has_snarls is: False\n",
      "Children: node 2367361fd has #nodes: 2 and has_snarls is: False\n",
      "Visiting simple snarl 2367358rev->2367356revtraversing start->end\n",
      "Children: node 2367357fd has #nodes: 1 and has_snarls is: False\n",
      "Visiting simple snarl 2367356rev->2367353revtraversing start->end\n",
      "Children: node 2367354fd has #nodes: 1 and has_snarls is: False\n",
      "Children: node 2367355fd has #nodes: 2 and has_snarls is: False\n",
      "Visiting simple snarl 2367353rev->2367350revtraversing start->end\n",
      "Children: node 2367351fd has #nodes: 1 and has_snarls is: False\n",
      "Children: node 2367352fd has #nodes: 2 and has_snarls is: False\n",
      "Visiting simple snarl 2367350rev->2367347revtraversing start->end\n",
      "Children: node 2367348fd has #nodes: 1 and has_snarls is: False\n",
      "Children: node 2367349fd has #nodes: 2 and has_snarls is: False\n",
      "Visiting simple snarl 2367346rev->2367343revtraversing start->end\n",
      "Children: node 2367344fd has #nodes: 1 and has_snarls is: False\n",
      "Children: node 2367345fd has #nodes: 2 and has_snarls is: False\n",
      "Visiting simple snarl 2367343rev->2367341revtraversing start->end\n",
      "Children: node 2367342fd has #nodes: 1 and has_snarls is: False\n",
      "Visiting simple snarl 2367341rev->2367339revtraversing start->end\n",
      "Children: node 2367340fd has #nodes: 1 and has_snarls is: False\n",
      "Visiting simple snarl 2367339rev->2367337revtraversing start->end\n",
      "Children: node 2367338fd has #nodes: 1 and has_snarls is: False\n"
     ]
    }
   ],
   "source": [
    "leaf_snarl_net_handles: list = anchoring.get_leaf_snarls()"
   ]
  },
  {
   "cell_type": "code",
   "execution_count": null,
   "id": "fb4035ed",
   "metadata": {},
   "outputs": [],
   "source": [
    "one_snarl = leaf_snarl_net_handles[1]"
   ]
  },
  {
   "cell_type": "code",
   "execution_count": null,
   "id": "9d993dc9",
   "metadata": {},
   "outputs": [],
   "source": [
    "one_snarl"
   ]
  },
  {
   "cell_type": "code",
   "execution_count": null,
   "id": "c801469c",
   "metadata": {
    "scrolled": true
   },
   "outputs": [],
   "source": [
    "snarl_traversals = anchoring.get_paths_traversing_snarl(one_snarl)"
   ]
  },
  {
   "cell_type": "code",
   "execution_count": 7,
   "id": "0fd3a468",
   "metadata": {},
   "outputs": [
    {
     "name": "stdout",
     "output_type": "stream",
     "text": [
      "Obtaining steps on start node for snarl <bdsg.handlegraph.net_handle_t object at 0x7f72f012f530>... Done.\n",
      "Obtaining path handles from steps... Done.\n",
      "Obtaining path in snarls... anchor of length 21 is too short\n",
      "anchor of length 21 is too short\n",
      "anchor of length 21 is too short\n",
      "anchor of length 21 is too short\n",
      "anchor of length 21 is too short\n",
      "anchor of length 21 is too short\n",
      "anchor of length 21 is too short\n",
      "anchor of length 21 is too short\n",
      "anchor of length 21 is too short\n",
      "anchor of length 21 is too short\n",
      "Done.\n",
      "Obtaining steps on start node for snarl <bdsg.handlegraph.net_handle_t object at 0x7f72f012d170>... Done.\n",
      "Obtaining path handles from steps... Done.\n",
      "Obtaining path in snarls... anchor inserted\n",
      "anchor inserted\n",
      "anchor inserted\n",
      "anchor inserted\n",
      "anchor inserted\n",
      "anchor inserted\n",
      "anchor inserted\n",
      "anchor inserted\n",
      "anchor inserted\n",
      "anchor inserted\n",
      "Done.\n",
      "Obtaining steps on start node for snarl <bdsg.handlegraph.net_handle_t object at 0x7f72f012f7f0>... Done.\n",
      "Obtaining path handles from steps... Done.\n",
      "Obtaining path in snarls... anchor inserted\n",
      "anchor inserted\n",
      "anchor inserted\n",
      "anchor inserted\n",
      "anchor inserted\n",
      "anchor inserted\n",
      "anchor inserted\n",
      "anchor inserted\n",
      "anchor inserted\n",
      "anchor inserted\n",
      "Done.\n",
      "Obtaining steps on start node for snarl <bdsg.handlegraph.net_handle_t object at 0x7f72f012d3b0>... Done.\n",
      "Obtaining path handles from steps... Done.\n",
      "Obtaining path in snarls... anchor inserted\n",
      "anchor inserted\n",
      "anchor inserted\n",
      "anchor inserted\n",
      "anchor inserted\n",
      "anchor inserted\n",
      "anchor inserted\n",
      "anchor inserted\n",
      "anchor inserted\n",
      "anchor inserted\n",
      "Done.\n",
      "Obtaining steps on start node for snarl <bdsg.handlegraph.net_handle_t object at 0x7f72f012fcb0>... Done.\n",
      "Obtaining path handles from steps... Done.\n",
      "Obtaining path in snarls... anchor inserted\n",
      "anchor inserted\n",
      "anchor inserted\n",
      "anchor inserted\n",
      "anchor inserted\n",
      "anchor inserted\n",
      "anchor inserted\n",
      "anchor inserted\n",
      "anchor inserted\n",
      "anchor inserted\n",
      "Done.\n",
      "Obtaining steps on start node for snarl <bdsg.handlegraph.net_handle_t object at 0x7f72f012c370>... Done.\n",
      "Obtaining path handles from steps... Done.\n",
      "Obtaining path in snarls... anchor inserted\n",
      "anchor inserted\n",
      "anchor inserted\n",
      "anchor inserted\n",
      "anchor inserted\n",
      "anchor inserted\n",
      "anchor inserted\n",
      "anchor inserted\n",
      "anchor inserted\n",
      "anchor inserted\n",
      "Done.\n",
      "Obtaining steps on start node for snarl <bdsg.handlegraph.net_handle_t object at 0x7f72f012c230>... Done.\n",
      "Obtaining path handles from steps... Done.\n",
      "Obtaining path in snarls... anchor inserted\n",
      "anchor inserted\n",
      "anchor inserted\n",
      "Done.\n",
      "Obtaining steps on start node for snarl <bdsg.handlegraph.net_handle_t object at 0x7f72f012f870>... Done.\n",
      "Obtaining path handles from steps... Done.\n",
      "Obtaining path in snarls... anchor inserted\n",
      "anchor inserted\n",
      "anchor inserted\n",
      "Done.\n",
      "Obtaining steps on start node for snarl <bdsg.handlegraph.net_handle_t object at 0x7f72f012e730>... Done.\n",
      "Obtaining path handles from steps... Done.\n",
      "Obtaining path in snarls... anchor inserted\n",
      "anchor inserted\n",
      "anchor inserted\n",
      "Done.\n",
      "Obtaining steps on start node for snarl <bdsg.handlegraph.net_handle_t object at 0x7f72f012fbb0>... Done.\n",
      "Obtaining path handles from steps... Done.\n",
      "Obtaining path in snarls... anchor inserted\n",
      "anchor inserted\n",
      "anchor inserted\n",
      "Done.\n"
     ]
    }
   ],
   "source": [
    "anchoring.fill_anchor_sentinel_table()"
   ]
  },
  {
   "cell_type": "code",
   "execution_count": 8,
   "id": "bb5070ab",
   "metadata": {},
   "outputs": [
    {
     "name": "stdout",
     "output_type": "stream",
     "text": [
      "Sentinel: 2367360 ; Anchor : <2367362<2367360<2367359 ; Bandage : ,2367362,2367360,2367359\n",
      "Sentinel: 2367357 ; Anchor : <2367358<2367357<2367356 ; Bandage : ,2367358,2367357,2367356\n",
      "Sentinel: 2367354 ; Anchor : <2367356<2367354<2367353 ; Bandage : ,2367356,2367354,2367353\n",
      "Sentinel: 2367355 ; Anchor : >2367353>2367355>2367356 ; Bandage : ,2367353,2367355,2367356\n",
      "Sentinel: 2367351 ; Anchor : <2367353<2367351<2367350 ; Bandage : ,2367353,2367351,2367350\n",
      "Sentinel: 2367352 ; Anchor : >2367350>2367352>2367353 ; Bandage : ,2367350,2367352,2367353\n",
      "Sentinel: 2367349 ; Anchor : <2367350<2367349<2367347 ; Bandage : ,2367350,2367349,2367347\n",
      "Sentinel: 2367348 ; Anchor : >2367347>2367348>2367350 ; Bandage : ,2367347,2367348,2367350\n",
      "Sentinel: 2367345 ; Anchor : >2367343>2367345>2367346 ; Bandage : ,2367343,2367345,2367346\n",
      "Sentinel: 2367344 ; Anchor : >2367343>2367344>2367346 ; Bandage : ,2367343,2367344,2367346\n",
      "Sentinel: 2367343 ; Anchor : >2367341>2367343 ; Bandage : ,2367341,2367343\n",
      "Sentinel: 2367340 ; Anchor : >2367339>2367340>2367341 ; Bandage : ,2367339,2367340,2367341\n",
      "Sentinel: 2367341 ; Anchor : >2367339>2367341 ; Bandage : ,2367339,2367341\n",
      "Sentinel: 2367338 ; Anchor : >2367337>2367338>2367339 ; Bandage : ,2367337,2367338,2367339\n"
     ]
    }
   ],
   "source": [
    "anchoring.print_anchors_from_dict()"
   ]
  },
  {
   "cell_type": "code",
   "execution_count": null,
   "id": "8a024033",
   "metadata": {},
   "outputs": [],
   "source": []
  }
 ],
 "metadata": {
  "kernelspec": {
   "display_name": "Python 3 (ipykernel)",
   "language": "python",
   "name": "python3"
  },
  "language_info": {
   "codemirror_mode": {
    "name": "ipython",
    "version": 3
   },
   "file_extension": ".py",
   "mimetype": "text/x-python",
   "name": "python",
   "nbconvert_exporter": "python",
   "pygments_lexer": "ipython3",
   "version": "3.10.13"
  }
 },
 "nbformat": 4,
 "nbformat_minor": 5
}
