{
 "cells": [
  {
   "cell_type": "code",
   "execution_count": 1,
   "id": "19d6c22a",
   "metadata": {},
   "outputs": [],
   "source": [
    "from bdsg.bdsg import HashGraph\n",
    "from bdsg.bdsg import SnarlDistanceIndex\n",
    "from bdsg.bdsg import PackedGraph"
   ]
  },
  {
   "cell_type": "code",
   "execution_count": 2,
   "id": "16713470",
   "metadata": {},
   "outputs": [],
   "source": [
    "graph = HashGraph()\n",
    "seq = [\"CGA\", \"TTGG\", \"CCGT\", \"C\", \"GT\", \"GATAA\", \"CGG\", \"ACA\", \"GCCG\", \"ATATAAC\"]\n",
    "#seq = [\"AAA\", \"BBB\", \"CCC\", \"DDD\"]\n",
    "n = []\n",
    "for s in seq:\n",
    "    n.append(graph.create_handle(s))"
   ]
  },
  {
   "cell_type": "code",
   "execution_count": 3,
   "id": "790fdf71",
   "metadata": {},
   "outputs": [],
   "source": [
    "graph.create_edge(n[0],n[1])\n",
    "graph.create_edge(n[1],n[2])\n",
    "graph.create_edge(n[2],n[3])\n",
    "graph.create_edge(n[2],n[4])\n",
    "graph.create_edge(n[3],n[5])\n",
    "graph.create_edge(n[4],n[5])\n",
    "graph.create_edge(n[5],n[8])\n",
    "graph.create_edge(n[5],n[6])\n",
    "graph.create_edge(n[6],n[7])\n",
    "graph.create_edge(n[6],n[8])\n",
    "graph.create_edge(n[7],n[9])\n",
    "graph.create_edge(n[8],n[9])\n",
    "graph.create_edge(n[8],n[5])\n",
    "\n",
    "\n",
    "# graph.create_edge(n[0],n[1])\n",
    "# graph.create_edge(n[0],n[2])\n",
    "# graph.create_edge(n[0],n[3])"
   ]
  },
  {
   "cell_type": "code",
   "execution_count": 4,
   "id": "15b7a350",
   "metadata": {},
   "outputs": [
    {
     "name": "stdout",
     "output_type": "stream",
     "text": [
      "GCCG\n",
      "CGG\n"
     ]
    }
   ],
   "source": [
    "neighbors = []\n",
    "def gather_neighbors(neighbor_handle):\n",
    "    neighbors.append(neighbor_handle)\n",
    "    return True  # Continue traversing edges\n",
    "\n",
    "# Step 5: Follow the outgoing (right side) edges\n",
    "graph.follow_edges(n[5], go_left=False, iteratee=gather_neighbors)\n",
    "\n",
    "\n",
    "for nb in neighbors:\n",
    "    print(f'{graph.get_sequence(nb)}')\n",
    "    "
   ]
  },
  {
   "cell_type": "code",
   "execution_count": 5,
   "id": "2341db22",
   "metadata": {
    "scrolled": true
   },
   "outputs": [
    {
     "name": "stdout",
     "output_type": "stream",
     "text": [
      "n0: CGA\n",
      "n1: TTGG\n",
      "n2: CCGT\n",
      "C\n",
      "GT\n"
     ]
    }
   ],
   "source": [
    "def next_node_list(handle):\n",
    "    lis = []\n",
    "    graph.follow_edges(handle, False, lambda y: lis.append(y) or True)\n",
    "    return lis\n",
    "\n",
    "print(f'n0: {graph.get_sequence(n[0])}')\n",
    "next_node = next_node_list(n[0])[0]\n",
    "print(f'n1: {graph.get_sequence(next_node)}')\n",
    "next_node = next_node_list(next_node)[0]\n",
    "print(f'n2: {graph.get_sequence(next_node)}')\n",
    "next_nodes = next_node_list(n[2])\n",
    "for el in next_nodes:\n",
    "    print(f'{graph.get_sequence(el)}')"
   ]
  },
  {
   "cell_type": "code",
   "execution_count": 6,
   "id": "71adae9f",
   "metadata": {},
   "outputs": [
    {
     "data": {
      "text/plain": [
       "<bdsg.handlegraph.step_handle_t at 0x7f8cedd16db0>"
      ]
     },
     "execution_count": 6,
     "metadata": {},
     "output_type": "execute_result"
    }
   ],
   "source": [
    "path = graph.create_path_handle(\"path_test\")\n",
    "graph.append_step(path, n[0])\n",
    "graph.append_step(path, n[1])\n",
    "graph.append_step(path, n[2])\n",
    "graph.append_step(path, n[4])\n",
    "graph.append_step(path, n[5])\n",
    "graph.append_step(path, n[6])\n",
    "graph.append_step(path, n[7])\n",
    "graph.append_step(path, n[9])"
   ]
  },
  {
   "cell_type": "code",
   "execution_count": 7,
   "id": "233a43a4",
   "metadata": {},
   "outputs": [
    {
     "name": "stdout",
     "output_type": "stream",
     "text": [
      "CGA\n",
      "TTGG\n",
      "CCGT\n",
      "GT\n",
      "GATAA\n",
      "CGG\n",
      "ACA\n",
      "ATATAAC\n"
     ]
    }
   ],
   "source": [
    "step = graph.path_begin(path)\n",
    "\n",
    "while (graph.has_next_step(step)):\n",
    "    current_node_handle = graph.get_handle_of_step(step)\n",
    "    print(graph.get_sequence(current_node_handle))\n",
    "    step = graph.get_next_step(step)\n",
    "    \n",
    "current_node_handle = graph.get_handle_of_step(step)\n",
    "\n",
    "print(graph.get_sequence(current_node_handle))"
   ]
  },
  {
   "cell_type": "code",
   "execution_count": 8,
   "id": "ff5191be",
   "metadata": {},
   "outputs": [],
   "source": [
    "with open(\"./test.gfa\",\"w\") as f:\n",
    "    print(f'S\\t1\\tAAAA', file=f)\n",
    "    print(f'S\\t2\\tBB', file=f)\n",
    "    print(f'S\\t3\\tC', file=f)\n",
    "    print(f'S\\t4\\tDDDDD', file=f)\n",
    "    print(f'L\\t1\\t+\\t2\\t+\\t0M', file=f)\n",
    "    print(f'L\\t1\\t+\\t3\\t+\\t0M', file=f)\n",
    "    print(f'L\\t2\\t+\\t4\\t+\\t0M', file=f)\n",
    "    print(f'L\\t3\\t+\\t4\\t+\\t0M', file=f)\n",
    "    print(f'W\\tP1\\t1\\tchr1\\t0\\t10\\t>1>2>4', file=f)\n",
    "    print(f'W\\tP2\\t2\\tchr1\\t0\\t9\\t>1>3>4', file=f)\n",
    "    "
   ]
  },
  {
   "cell_type": "code",
   "execution_count": 9,
   "id": "a20332aa",
   "metadata": {},
   "outputs": [
    {
     "ename": "RuntimeError",
     "evalue": "Could not load from file ./index.dist: No such file or directory",
     "output_type": "error",
     "traceback": [
      "\u001b[0;31m---------------------------------------------------------------------------\u001b[0m",
      "\u001b[0;31mRuntimeError\u001b[0m                              Traceback (most recent call last)",
      "Cell \u001b[0;32mIn[9], line 2\u001b[0m\n\u001b[1;32m      1\u001b[0m s_idx \u001b[38;5;241m=\u001b[39m SnarlDistanceIndex()\n\u001b[0;32m----> 2\u001b[0m \u001b[43ms_idx\u001b[49m\u001b[38;5;241;43m.\u001b[39;49m\u001b[43mdeserialize\u001b[49m\u001b[43m(\u001b[49m\u001b[38;5;124;43m'\u001b[39;49m\u001b[38;5;124;43m./index.dist\u001b[39;49m\u001b[38;5;124;43m'\u001b[39;49m\u001b[43m)\u001b[49m\n",
      "\u001b[0;31mRuntimeError\u001b[0m: Could not load from file ./index.dist: No such file or directory"
     ]
    }
   ],
   "source": [
    "s_idx = SnarlDistanceIndex()\n",
    "s_idx.deserialize('./index.dist')"
   ]
  },
  {
   "cell_type": "code",
   "execution_count": null,
   "id": "aa17ea2a",
   "metadata": {},
   "outputs": [],
   "source": [
    "root_handle = s_idx.get_root()"
   ]
  },
  {
   "cell_type": "code",
   "execution_count": null,
   "id": "29a244a3",
   "metadata": {},
   "outputs": [],
   "source": [
    "def snarl_iteratee(snarl_handle):\n",
    "    print(\"Snarl:\", s_idx.net_handle_as_string(snarl_handle))\n",
    "    return True\n",
    "\n",
    "def chain_iteratee(chain_handle):\n",
    "    print(\"Chain:\", s_idx.net_handle_as_string(chain_handle))\n",
    "    return True\n",
    "\n",
    "def node_iteratee(node_handle):\n",
    "    print(\"Node:\", s_idx.net_handle_as_string(node_handle))\n",
    "    return True\n"
   ]
  },
  {
   "cell_type": "code",
   "execution_count": null,
   "id": "e17fa8fb",
   "metadata": {},
   "outputs": [],
   "source": [
    "s_idx.traverse_decomposition(snarl_iteratee, chain_iteratee, node_iteratee)"
   ]
  },
  {
   "cell_type": "code",
   "execution_count": null,
   "id": "10104863",
   "metadata": {},
   "outputs": [],
   "source": [
    "gr = PackedGraph()\n",
    "gr.deserialize('test.vg')\n",
    "node_id = 2\n",
    "handle = gr.get_handle(node_id, is_reverse=False)"
   ]
  },
  {
   "cell_type": "code",
   "execution_count": null,
   "id": "d864d819",
   "metadata": {},
   "outputs": [],
   "source": [
    "n_handle = s_idx.get_net(handle, gr)"
   ]
  },
  {
   "cell_type": "code",
   "execution_count": null,
   "id": "831500ba",
   "metadata": {},
   "outputs": [],
   "source": [
    "s_idx.is_node(n_handle)"
   ]
  },
  {
   "cell_type": "code",
   "execution_count": null,
   "id": "fc0f2ed8",
   "metadata": {},
   "outputs": [],
   "source": [
    "parent_handle = s_idx.get_parent(n_handle)\n",
    "p2_handle = s_idx.get_parent(parent_handle)\n",
    "if s_idx.is_chain(parent_handle):\n",
    "    print(f\"Node {node_id} is part of the chain represented by handle: {parent_handle}\")\n",
    "elif s_idx.is_snarl(parent_handle):\n",
    "    print(f\"Node {node_id} is inside the snarl represented by handle: {parent_handle}\")\n",
    "else:\n",
    "    print(f\"Error: Could not find parent chain or snarl for node {node_id}\")\n"
   ]
  },
  {
   "cell_type": "code",
   "execution_count": null,
   "id": "c68064e8",
   "metadata": {},
   "outputs": [],
   "source": [
    "s_idx.is_node(p2_handle)"
   ]
  },
  {
   "cell_type": "code",
   "execution_count": null,
   "id": "3218d697",
   "metadata": {},
   "outputs": [],
   "source": [
    "s_idx.is_snarl(p2_handle)"
   ]
  },
  {
   "cell_type": "code",
   "execution_count": null,
   "id": "1294af8f",
   "metadata": {},
   "outputs": [],
   "source": [
    "# Step 4: Traverse the chain\n",
    "def visit_chain_child(child_net_handle):\n",
    "    if s_idx.is_node(child_net_handle):\n",
    "        print(f\"Child is a node: {s_idx.node_id(child_net_handle)}\")\n",
    "    elif s_idx.is_snarl(child_net_handle):\n",
    "        print(f\"Child is a snarl: {s_idx.net_handle_as_string(child_net_handle)}\")\n",
    "    return True  # Continue traversing\n",
    "\n",
    "# Traverse the chain and visit every child in it\n",
    "s_idx.for_each_child(s_idx.get_parent(p2_handle), visit_chain_child)"
   ]
  },
  {
   "cell_type": "code",
   "execution_count": null,
   "id": "db3288f4",
   "metadata": {},
   "outputs": [],
   "source": [
    "node_id = 1\n",
    "handle = gr.get_handle(node_id, is_reverse=False)"
   ]
  },
  {
   "cell_type": "code",
   "execution_count": null,
   "id": "8716924d",
   "metadata": {},
   "outputs": [],
   "source": [
    "steps_on_node = []\n",
    "\n",
    "gr.for_each_step_on_handle(handle, lambda y: steps_on_node.append(y) or True)"
   ]
  },
  {
   "cell_type": "code",
   "execution_count": null,
   "id": "a3a1e1ad",
   "metadata": {},
   "outputs": [],
   "source": [
    "len(steps_on_node)"
   ]
  },
  {
   "cell_type": "code",
   "execution_count": null,
   "id": "15c8397b",
   "metadata": {},
   "outputs": [],
   "source": [
    "path_handles = []\n",
    "for step in steps_on_node:\n",
    "    path_handle = gr.get_path_handle_of_step(step)\n",
    "    path_handles.append(path_handle)"
   ]
  },
  {
   "cell_type": "code",
   "execution_count": null,
   "id": "18fb340a",
   "metadata": {},
   "outputs": [],
   "source": [
    "path_names = []\n",
    "for path_handle in path_handles:\n",
    "    path_name = gr.get_path_name(path_handle)\n",
    "    path_names.append(path_name)"
   ]
  },
  {
   "cell_type": "code",
   "execution_count": null,
   "id": "ddc5b39f",
   "metadata": {},
   "outputs": [],
   "source": [
    "path_names"
   ]
  },
  {
   "cell_type": "code",
   "execution_count": null,
   "id": "dec947e7",
   "metadata": {},
   "outputs": [],
   "source": [
    "s_idx.is_chain(parent_handle)"
   ]
  },
  {
   "cell_type": "code",
   "execution_count": null,
   "id": "d9f4e5e6",
   "metadata": {},
   "outputs": [],
   "source": [
    "s_idx.chain_minimum_length(parent_handle)"
   ]
  },
  {
   "cell_type": "code",
   "execution_count": null,
   "id": "9202e5d4",
   "metadata": {},
   "outputs": [],
   "source": [
    "s_idx.minimum_length(p2_handle)"
   ]
  },
  {
   "cell_type": "code",
   "execution_count": null,
   "id": "7c4631d0",
   "metadata": {},
   "outputs": [],
   "source": []
  }
 ],
 "metadata": {
  "kernelspec": {
   "display_name": "Python 3 (ipykernel)",
   "language": "python",
   "name": "python3"
  },
  "language_info": {
   "codemirror_mode": {
    "name": "ipython",
    "version": 3
   },
   "file_extension": ".py",
   "mimetype": "text/x-python",
   "name": "python",
   "nbconvert_exporter": "python",
   "pygments_lexer": "ipython3",
   "version": "3.10.13"
  }
 },
 "nbformat": 4,
 "nbformat_minor": 5
}
