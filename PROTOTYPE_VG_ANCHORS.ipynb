{
 "cells": [
  {
   "cell_type": "code",
   "execution_count": 1,
   "id": "708a57e5",
   "metadata": {},
   "outputs": [],
   "source": [
    "from bdsg.bdsg import HashGraph\n",
    "from bdsg.bdsg import SnarlDistanceIndex\n",
    "from bdsg.bdsg import PackedGraph"
   ]
  },
  {
   "cell_type": "markdown",
   "id": "5843cc88",
   "metadata": {},
   "source": [
    "#### STEP 1: IMPORT THE DATA \n",
    "1. The graph in PackedGraph format (using ```vg convert -p``` ) \n",
    "2. The distance index for the snarl/chain tree"
   ]
  },
  {
   "cell_type": "code",
   "execution_count": 2,
   "id": "5264ae6e",
   "metadata": {},
   "outputs": [],
   "source": [
    "graph_path: str = 'test/test_graph.vg'\n",
    "index_path: str = 'test/test_idx.dist'"
   ]
  },
  {
   "cell_type": "code",
   "execution_count": 3,
   "id": "4a7c5bd7",
   "metadata": {},
   "outputs": [],
   "source": [
    "graph = PackedGraph()\n",
    "graph.deserialize(graph_path)\n",
    "# graph.deserialize('test.vg')\n",
    "\n",
    "\n",
    "idx = SnarlDistanceIndex()\n",
    "idx.deserialize(index_path)\n",
    "# idx.deserialize('idx.dist')"
   ]
  },
  {
   "cell_type": "markdown",
   "id": "0d042a39",
   "metadata": {},
   "source": [
    "##### TEST 1: CHECK HOW THE TREE STRUCTURE WORKS. \n",
    "1. In theory the root of the tree is going to be a chain.\n",
    "2. I iterate over its children and if I find a snarl, I check if it is a leaf snarl.\n",
    "3. Each snarl has as a child a chain. If the children of the chain are not snarls, it is a leaf snarl.\n",
    "4. Else if it has other snarls, I keep iterating until I find the leaf snarl.\n",
    "\n",
    "\n",
    "Which functions do I need?\n",
    "1. from a chain, traverse its children. \n",
    "2. If find a snarl. Iterate over its children (chains(s)).\n",
    "3. If the childern of the chain of the snarl are all nodes, append the snarl to the list;\n",
    "4. Else go to 2."
   ]
  },
  {
   "cell_type": "code",
   "execution_count": 4,
   "id": "c16b3ab5",
   "metadata": {},
   "outputs": [],
   "source": [
    "root_handle = idx.get_root()"
   ]
  },
  {
   "cell_type": "code",
   "execution_count": 5,
   "id": "6b6403e2",
   "metadata": {},
   "outputs": [
    {
     "name": "stdout",
     "output_type": "stream",
     "text": [
      "printing out\n",
      "simple snarl 6rev->5revtraversing start->end\n",
      "Start Bound ID: 6, is_reverse: True\n",
      "End Bound ID: 5, is_reverse: True\n",
      "snarl 5rev->3revtraversing start->end\n",
      "Start Bound ID: 5, is_reverse: True\n",
      "End Bound ID: 3, is_reverse: True\n",
      "simple snarl 6rev->5revtraversing start->end\n",
      "snarl 5rev->3revtraversing start->end\n"
     ]
    }
   ],
   "source": [
    "leaf_snarls = [] \n",
    "contains_child_snarls = False\n",
    "num_nodes = 0\n",
    "\n",
    "def check_for_snarl(child_net_handle):\n",
    "    global contains_child_snarls\n",
    "    global num_nodes\n",
    "    if idx.is_snarl(child_net_handle):\n",
    "        contains_child_snarls = True\n",
    "    elif idx.is_node(child_net_handle):\n",
    "        num_nodes += 1\n",
    "    return True\n",
    "\n",
    "# THIS FUNCTION TAKES A SNARL. FOR EACH CHILD (CHAIN) OF THE SNARL, CHECK THEIR CHILDREN. \n",
    "# IF NO ONE HAS A SNARL, THE SNARL IS A LEAF\n",
    "def snarl_iteratee(handle):\n",
    "    global contains_child_snarls\n",
    "    contains_child_snarls = False\n",
    "    snarl_children = []\n",
    "    idx.for_each_child(handle, lambda y: snarl_children.append(y) or True) \n",
    "    \n",
    "    num_nodes = 0\n",
    "    for s_c in snarl_children:\n",
    "        idx.for_each_child(s_c, check_for_snarl)\n",
    "    \n",
    "    if ((not contains_child_snarls) and (num_nodes < 10)):\n",
    "        leaf_snarls.append(handle)\n",
    "    return True\n",
    "idx.traverse_decomposition(snarl_iteratee, lambda x: True, lambda y: True)\n",
    "# THIS FUNCTION TAKES A SNARL. IF IT HAS MORE THAN 1 CHILD, IT MEANS IT IS A LEAF\n",
    "# THIS FROM THE INTUITION THAT AN INTERNAL SNARLS HAS AS 1 CHILD THAT IS A CHAIN OF NODES AND SNARL(S)\n",
    "# NOT SURE IT IS TRUE ALWAYS\n",
    "def snarl_inf(handle):\n",
    "    snarl_children = []\n",
    "    idx.for_each_child(handle, lambda y: snarl_children.append(y) or True)\n",
    "    \n",
    "    if len(snarl_children) > 1:\n",
    "        leaf_snarls_inf.append(handle)\n",
    "    return True\n",
    "\n",
    "\n",
    "leaf_snarls_inf = [] \n",
    "idx.traverse_decomposition(snarl_inf, lambda x: True, lambda y: True)\n",
    "\n",
    "print('printing out')\n",
    "for el in leaf_snarls:\n",
    "    print(idx.net_handle_as_string(el))\n",
    "    start_bound = idx.get_start_bound(el)\n",
    "    end_bound = idx.get_end_bound(el)\n",
    "\n",
    "    # Inspect the orientations\n",
    "    print(f\"Start Bound ID: {graph.get_id(idx.get_handle(start_bound, graph))}, is_reverse: {graph.get_is_reverse(idx.get_handle(start_bound, graph))}\")\n",
    "    print(f\"End Bound ID: {graph.get_id(idx.get_handle(end_bound, graph))}, is_reverse: {graph.get_is_reverse(idx.get_handle(end_bound, graph))}\")\n",
    "    \n",
    "for el in leaf_snarls_inf:\n",
    "    print(idx.net_handle_as_string(el))"
   ]
  },
  {
   "cell_type": "markdown",
   "id": "ab9df5d3",
   "metadata": {},
   "source": [
    "#### STEP 2: GENERATE THE ANCHOR DICTIONARY\n",
    "1. Traverse the SNARL TREE, using ```index.traverse_decomposition```\n",
    "2. When detecting a LEAF SNARL, PASS IT TO THE SNARL CONSTRUCTION\n",
    "3.  When detecting a LEAF SNARL:\n",
    "    1. The snarl has to contain less than X = 10 elements; X is a parameter. \n",
    "    2. The number of paths passing by the snarl has to be > MIN and < MAX. Both parameters \n",
    "    3. For each path in the snarl, "
   ]
  },
  {
   "cell_type": "code",
   "execution_count": 6,
   "id": "2ba31248",
   "metadata": {},
   "outputs": [],
   "source": [
    "import sys\n",
    "sys.path.append('./assembler')\n",
    "from anchor import SnarlAnchor"
   ]
  },
  {
   "cell_type": "code",
   "execution_count": 7,
   "id": "acdecce1",
   "metadata": {},
   "outputs": [],
   "source": [
    "anchoring = SnarlAnchor(10)"
   ]
  },
  {
   "cell_type": "code",
   "execution_count": 8,
   "id": "22dc4732",
   "metadata": {},
   "outputs": [],
   "source": [
    "anchoring.build_graph(graph_path, index_path)"
   ]
  },
  {
   "cell_type": "code",
   "execution_count": 9,
   "id": "e4014550",
   "metadata": {},
   "outputs": [
    {
     "name": "stdout",
     "output_type": "stream",
     "text": [
      "Visiting snarl 2rev->1revtraversing start->end\n",
      "Children: node 6rev has #nodes: 1 and has_snarls is: False\n",
      "Children: simple snarl 6rev->5revtraversing start->end has #nodes: 1 and has_snarls is: True\n",
      "Children: node 5rev has #nodes: 2 and has_snarls is: True\n",
      "Children: snarl 5rev->3revtraversing start->end has #nodes: 2 and has_snarls is: True\n",
      "Children: node 3rev has #nodes: 3 and has_snarls is: True\n",
      "Visiting simple snarl 6rev->5revtraversing start->end\n",
      "Children: node 9fd has #nodes: 1 and has_snarls is: False\n",
      "Children: node 10fd has #nodes: 2 and has_snarls is: False\n",
      "Visiting snarl 5rev->3revtraversing start->end\n",
      "Children: node 4fd has #nodes: 1 and has_snarls is: False\n",
      "Children: node 7fd has #nodes: 2 and has_snarls is: False\n",
      "Children: node 8fd has #nodes: 3 and has_snarls is: False\n"
     ]
    }
   ],
   "source": [
    "leaf_snarl_net_handles: list = anchoring.process_snarls()"
   ]
  },
  {
   "cell_type": "code",
   "execution_count": 10,
   "id": "44fcddf1",
   "metadata": {},
   "outputs": [
    {
     "name": "stdout",
     "output_type": "stream",
     "text": [
      "simple snarl 6rev->5revtraversing start->end\n",
      "node 9fd,node 10fd,\n",
      "snarl 5rev->3revtraversing start->end\n",
      "node 4fd,node 7fd,node 8fd,\n"
     ]
    }
   ],
   "source": [
    "for el in leaf_snarl_net_handles:\n",
    "    print(idx.net_handle_as_string(el[0]))\n",
    "    for n in el[1]:\n",
    "        print(idx.net_handle_as_string(n), end=\",\")\n",
    "    print()"
   ]
  },
  {
   "cell_type": "code",
   "execution_count": 11,
   "id": "abfa1426",
   "metadata": {},
   "outputs": [
    {
     "data": {
      "text/plain": [
       "[(<bdsg.handlegraph.net_handle_t at 0x7f4c9b70d1b0>,\n",
       "  [<bdsg.handlegraph.net_handle_t at 0x7f4cbc2e83f0>,\n",
       "   <bdsg.handlegraph.net_handle_t at 0x7f4cbc2e85b0>]),\n",
       " (<bdsg.handlegraph.net_handle_t at 0x7f4c9b70ec70>,\n",
       "  [<bdsg.handlegraph.net_handle_t at 0x7f4cbc2e8770>,\n",
       "   <bdsg.handlegraph.net_handle_t at 0x7f4cbc2e8930>,\n",
       "   <bdsg.handlegraph.net_handle_t at 0x7f4cbc2e8bb0>])]"
      ]
     },
     "execution_count": 11,
     "metadata": {},
     "output_type": "execute_result"
    }
   ],
   "source": [
    "leaf_snarl_net_handles"
   ]
  },
  {
   "cell_type": "code",
   "execution_count": 12,
   "id": "b9572cd4",
   "metadata": {},
   "outputs": [
    {
     "name": "stdout",
     "output_type": "stream",
     "text": [
      "Chain: chain 2rev->1revtraversing start->end\n",
      "Node: node 2rev\n",
      "Snarl: snarl 2rev->1revtraversing start->end\n",
      "Chain: chain 6rev->3revtraversing start->end\n",
      "Node: node 6rev\n",
      "Snarl: simple snarl 6rev->5revtraversing start->end\n",
      "Chain: node 9fd pretending to be a chain in a simple snarl\n",
      "Node: node 9fd\n",
      "Chain: node 10fd pretending to be a chain in a simple snarl\n",
      "Node: node 10fd\n",
      "Node: node 5rev\n",
      "Snarl: snarl 5rev->3revtraversing start->end\n",
      "Chain: node 4fd pretending to be a chain\n",
      "Node: node 4fd\n",
      "Chain: node 7fd pretending to be a chain\n",
      "Node: node 7fd\n",
      "Chain: node 8fd pretending to be a chain\n",
      "Node: node 8fd\n",
      "Node: node 3rev\n",
      "Node: node 1rev\n"
     ]
    }
   ],
   "source": [
    "anchoring.print_tree_structure()"
   ]
  },
  {
   "cell_type": "code",
   "execution_count": 13,
   "id": "f591a43b",
   "metadata": {},
   "outputs": [
    {
     "name": "stdout",
     "output_type": "stream",
     "text": [
      "Start bound is sentinel of snarl 5rev->3revtraversing start->end\n",
      "Start node of snarl: 5, Direction: reverse\n",
      "End node of snarl: 3, Direction: reverse\n"
     ]
    }
   ],
   "source": [
    "one_snarl = leaf_snarl_net_handles[1][0]\n",
    "# Get the start and end bounds (which are net handles)\n",
    "start_bound = idx.get_start_bound(one_snarl)\n",
    "end_bound = idx.get_end_bound(one_snarl)\n",
    "print(f\"Start bound is {idx.net_handle_as_string(start_bound)}\")\n",
    "\n",
    "# Get their corresponding node handles and orientations\n",
    "start_node_id = idx.node_id(start_bound)\n",
    "start_node_handle = idx.get_handle(start_bound,graph)\n",
    "end_node_id = idx.node_id(end_bound)\n",
    "end_node_handle = idx.get_handle(end_bound,graph)\n",
    "\n",
    "# # Optionally, check if they are in reverse orientation\n",
    "start_is_reverse = graph.get_is_reverse(start_node_handle)\n",
    "end_is_reverse = graph.get_is_reverse(end_node_handle)\n",
    "\n",
    "# # Output the results\n",
    "start_direction = \"reverse\" if start_is_reverse else \"forward\"\n",
    "end_direction = \"reverse\" if end_is_reverse else \"forward\"\n",
    "\n",
    "print(f\"Start node of snarl: {start_node_id}, Direction: {start_direction}\")\n",
    "print(f\"End node of snarl: {end_node_id}, Direction: {end_direction}\")\n",
    "# print(start_node_id, end_node_id)"
   ]
  },
  {
   "cell_type": "code",
   "execution_count": 14,
   "id": "b6a8b6b8",
   "metadata": {},
   "outputs": [
    {
     "data": {
      "text/plain": [
       "True"
      ]
     },
     "execution_count": 14,
     "metadata": {},
     "output_type": "execute_result"
    }
   ],
   "source": [
    "steps_on_start_node = []\n",
    "graph.for_each_step_on_handle(start_node_handle, lambda y: steps_on_start_node.append(y) or True)"
   ]
  },
  {
   "cell_type": "code",
   "execution_count": 15,
   "id": "98510404",
   "metadata": {},
   "outputs": [
    {
     "data": {
      "text/plain": [
       "[<bdsg.handlegraph.step_handle_t at 0x7f4cbc2b20f0>,\n",
       " <bdsg.handlegraph.step_handle_t at 0x7f4cbc2b1ff0>,\n",
       " <bdsg.handlegraph.step_handle_t at 0x7f4cbc2d8f70>,\n",
       " <bdsg.handlegraph.step_handle_t at 0x7f4cbc2ef3f0>,\n",
       " <bdsg.handlegraph.step_handle_t at 0x7f4cbc2ee170>,\n",
       " <bdsg.handlegraph.step_handle_t at 0x7f4cbc2edbb0>,\n",
       " <bdsg.handlegraph.step_handle_t at 0x7f4cbc2ecb70>,\n",
       " <bdsg.handlegraph.step_handle_t at 0x7f4cbc2ee7f0>]"
      ]
     },
     "execution_count": 15,
     "metadata": {},
     "output_type": "execute_result"
    }
   ],
   "source": [
    "steps_on_start_node"
   ]
  },
  {
   "cell_type": "code",
   "execution_count": 16,
   "id": "747cd0c9",
   "metadata": {},
   "outputs": [],
   "source": [
    "path_handles = []\n",
    "path_names = []\n",
    "for step in steps_on_start_node:\n",
    "    path_handle = graph.get_path_handle_of_step(step)\n",
    "    path_handles.append(path_handle)\n",
    "    path_name = graph.get_path_name(path_handle)\n",
    "    path_names.append(path_name)\n"
   ]
  },
  {
   "cell_type": "code",
   "execution_count": 17,
   "id": "6423b9fe",
   "metadata": {
    "scrolled": true
   },
   "outputs": [
    {
     "data": {
      "text/plain": [
       "['P10#10#chr1#0',\n",
       " 'P9#9#chr1#0',\n",
       " 'P8#8#chr1#0',\n",
       " 'P7#7#chr1#0',\n",
       " 'P6#6#chr1#0',\n",
       " 'P5#5#chr1#0',\n",
       " 'P4#4#chr1#0',\n",
       " 'P1#1#chr1#0']"
      ]
     },
     "execution_count": 17,
     "metadata": {},
     "output_type": "execute_result"
    }
   ],
   "source": [
    "path_names"
   ]
  },
  {
   "cell_type": "code",
   "execution_count": 22,
   "id": "e6e76642",
   "metadata": {
    "scrolled": false
   },
   "outputs": [
    {
     "name": "stdout",
     "output_type": "stream",
     "text": [
      "3 5\n",
      "Walking on path P10#10#chr1#0\n",
      "visiting 2: skipped.\n",
      "visiting 6: skipped.\n",
      "visiting 10: skipped.\n",
      "visiting 5: visited.\n",
      "Node 5, Sequence: NN, Traversed in reverse direction\n",
      "visiting 7: visited.\n",
      "Node 7, Sequence: CCC, Traversed in reverse direction\n",
      "visiting 4: visited.\n",
      "Node 4, Sequence: NNNNN, Traversed in reverse direction\n",
      "visiting 3: visited.\n",
      "Node 3, Sequence: GGGG, Traversed in reverse direction\n",
      "ending visit.\n",
      "visiting 1: skipped.\n",
      "visiting 3: visited.\n",
      "Node 3, Sequence: CCCC, Traversed in forward direction\n",
      "visiting 4: visited.\n",
      "Node 4, Sequence: NNNNN, Traversed in forward direction\n",
      "visiting 7: visited.\n",
      "Node 7, Sequence: CCC, Traversed in reverse direction\n",
      "visiting 5: visited.\n",
      "Node 5, Sequence: NN, Traversed in forward direction\n",
      "ending visit.\n",
      "visiting 1: skipped.\n",
      "visiting 3: visited.\n",
      "Node 3, Sequence: CCCC, Traversed in forward direction\n",
      "visiting 4: visited.\n",
      "Node 4, Sequence: NNNNN, Traversed in forward direction\n",
      "visiting 7: visited.\n",
      "Node 7, Sequence: GGG, Traversed in forward direction\n",
      "visiting 5: visited.\n",
      "Node 5, Sequence: NN, Traversed in forward direction\n",
      "ending visit.\n",
      "visiting 1: skipped.\n",
      "visiting 3: visited.\n",
      "Node 3, Sequence: CCCC, Traversed in forward direction\n",
      "visiting 4: visited.\n",
      "Node 4, Sequence: NNNNN, Traversed in forward direction\n",
      "visiting 8: visited.\n",
      "Node 8, Sequence: N, Traversed in forward direction\n",
      "visiting 5: visited.\n",
      "Node 5, Sequence: NN, Traversed in forward direction\n",
      "ending visit.\n",
      "visiting 1: skipped.\n",
      "visiting 3: visited.\n",
      "Node 3, Sequence: CCCC, Traversed in forward direction\n",
      "visiting 4: visited.\n",
      "Node 4, Sequence: NNNNN, Traversed in forward direction\n",
      "visiting 8: visited.\n",
      "Node 8, Sequence: N, Traversed in forward direction\n",
      "visiting 5: visited.\n",
      "Node 5, Sequence: NN, Traversed in forward direction\n",
      "ending visit.\n",
      "visiting 1: skipped.\n",
      "visiting 3: visited.\n",
      "Node 3, Sequence: CCCC, Traversed in forward direction\n",
      "visiting 4: visited.\n",
      "Node 4, Sequence: NNNNN, Traversed in forward direction\n",
      "visiting 7: visited.\n",
      "Node 7, Sequence: GGG, Traversed in forward direction\n",
      "visiting 5: visited.\n",
      "Node 5, Sequence: NN, Traversed in forward direction\n",
      "ending visit.\n",
      "visiting 1: skipped.\n",
      "visiting 3: visited.\n",
      "Node 3, Sequence: CCCC, Traversed in forward direction\n",
      "visiting 4: visited.\n",
      "Node 4, Sequence: NNNNN, Traversed in forward direction\n",
      "visiting 7: visited.\n",
      "Node 7, Sequence: GGG, Traversed in forward direction\n",
      "visiting 5: visited.\n",
      "Node 5, Sequence: NN, Traversed in forward direction\n",
      "ending visit.\n",
      "visiting 1: skipped.\n",
      "visiting 3: visited.\n",
      "Node 3, Sequence: CCCC, Traversed in forward direction\n",
      "visiting 5: visited.\n",
      "Node 5, Sequence: NN, Traversed in forward direction\n",
      "ending visit.\n"
     ]
    }
   ],
   "source": [
    "path_1_handle = path_handles[0]\n",
    "path_1_name = path_names[0]\n",
    "\n",
    "sentinels = [graph.get_id(end_node_handle), graph.get_id(start_node_handle)] \\\n",
    "    if start_is_reverse else [graph.get_id(start_node_handle), graph.get_id(end_node_handle)]\n",
    "print(sentinels[0],sentinels[1])\n",
    "print(f\"Walking on path {path_1_name}\")\n",
    "\n",
    "# Step 3: Traverse all the steps on the path using for_each_step_in_path\n",
    "def traverse_step(step_handle):\n",
    "    # For each step, get the corresponding node handle (handle_t)\n",
    "    node_handle = graph.get_handle_of_step(step_handle)\n",
    "    # Get information about this node\n",
    "    node_id = graph.get_id(node_handle)\n",
    "    print(f\"visiting {node_id}\", end=\": \")\n",
    "    global keep\n",
    "    if not keep and node_id not in sentinels:\n",
    "        print('skipped.')\n",
    "        return True\n",
    "    \n",
    "    node_sequence = graph.get_sequence(node_handle)\n",
    "    is_reversed = graph.get_is_reverse(node_handle)\n",
    "    traversal.append((node_id,not(is_reversed)))\n",
    "    direction = \"reverse\" if is_reversed else \"forward\"\n",
    "    print('visited.')\n",
    "    \n",
    "    # Output the node details and whether it's traversed forward or reverse\n",
    "    print(f\"Node {node_id}, Sequence: {node_sequence}, Traversed in {direction} direction\")\n",
    "    if keep and node_id in sentinels:\n",
    "        print('ending visit.')\n",
    "        keep = False\n",
    "        return False\n",
    "    \n",
    "    keep = True\n",
    "    return True  # Continue traversing\n",
    "\n",
    "\n",
    "\n",
    "# Traverse the entire path and process each step\n",
    "traversals = []\n",
    "traversal = []\n",
    "keep = False\n",
    "\n",
    "for path_h in path_handles:\n",
    "    graph.for_each_step_in_path(path_h, traverse_step)\n",
    "    traversals.append(traversal)\n",
    "    traversal = []"
   ]
  },
  {
   "cell_type": "code",
   "execution_count": 23,
   "id": "7aa8d876",
   "metadata": {},
   "outputs": [
    {
     "name": "stdout",
     "output_type": "stream",
     "text": [
      "P10#10#chr1#0: <5<7<4<3\n",
      "P9#9#chr1#0: >3>4<7>5\n",
      "P8#8#chr1#0: >3>4>7>5\n",
      "P7#7#chr1#0: >3>4>8>5\n",
      "P6#6#chr1#0: >3>4>8>5\n",
      "P5#5#chr1#0: >3>4>7>5\n",
      "P4#4#chr1#0: >3>4>7>5\n",
      "P1#1#chr1#0: >3>5\n"
     ]
    }
   ],
   "source": [
    "def print_traversal(trv):\n",
    "    for node in trv:\n",
    "        direction = \">\" if node[1] == True else \"<\"\n",
    "        print(f\"{direction}{node[0]}\",end=\"\")\n",
    "    print()\n",
    "\n",
    "for pt,trv in zip(path_names,traversals):\n",
    "    print(f\"{pt}: \",end=\"\")\n",
    "    print_traversal(trv)"
   ]
  },
  {
   "cell_type": "code",
   "execution_count": 24,
   "id": "b144ef48",
   "metadata": {},
   "outputs": [],
   "source": [
    "def get_anchor_id(traversal):\n",
    "    anchor = traversal[len(traversal)//2][0]\n",
    "    return anchor\n",
    "        "
   ]
  },
  {
   "cell_type": "code",
   "execution_count": 25,
   "id": "5829a2ab",
   "metadata": {
    "scrolled": true
   },
   "outputs": [
    {
     "name": "stdout",
     "output_type": "stream",
     "text": [
      "4 <5<7<4<3\n",
      "7 >3>4<7>5\n",
      "7 >3>4>7>5\n",
      "8 >3>4>8>5\n",
      "8 >3>4>8>5\n",
      "7 >3>4>7>5\n",
      "7 >3>4>7>5\n",
      "5 >3>5\n"
     ]
    }
   ],
   "source": [
    "for trv in traversals:\n",
    "    print(get_anchor_id(trv), end=\" \")\n",
    "    print_traversal(trv)"
   ]
  },
  {
   "cell_type": "code",
   "execution_count": 38,
   "id": "ede9ef93",
   "metadata": {},
   "outputs": [],
   "source": [
    "def is_equal_path(path_1,path_2):\n",
    "    #if different length, false\n",
    "    if len(path_1) != len(path_2):\n",
    "        return False\n",
    "    \n",
    "    #start at 0\n",
    "    pos_path_1 = 0 if path_1[0][1] else len(path_1) - 1\n",
    "    pos_path_2 = 0 if path_2[0][1] else len(path_2) - 1\n",
    "    for i in range(len(path_1)):\n",
    "        start1,orientation1 = path_1[pos_path_1]\n",
    "        start2,orientation2 = path_2[pos_path_2]\n",
    "        if start1 == start2 and orientation1 == orientation2:\n",
    "            continue\n",
    "        else: return False\n",
    "    return True"
   ]
  },
  {
   "cell_type": "code",
   "execution_count": 44,
   "id": "31e5a797",
   "metadata": {},
   "outputs": [
    {
     "name": "stdout",
     "output_type": "stream",
     "text": [
      "4: <5<7<4<3\n",
      "7: >3>4<7>5\n",
      "7: >3>4>7>5\n",
      "not accepted\n",
      "8: >3>4>8>5\n",
      "8: >3>4>8>5\n",
      "not accepted\n",
      "7: >3>4>7>5\n",
      "not accepted\n",
      "7: >3>4>7>5\n",
      "not accepted\n",
      "5: >3>5\n",
      "{4: [[(5, False), (7, False), (4, False), (3, False)]], 7: [[(3, True), (4, True), (7, False), (5, True)]], 8: [[(3, True), (4, True), (8, True), (5, True)]], 5: [[(3, True), (5, True)]]}\n"
     ]
    }
   ],
   "source": [
    "paths_dict = dict()\n",
    "for trv in traversals:\n",
    "    anchor = get_anchor_id(trv)\n",
    "    print(f\"{anchor}:\", end=\" \")\n",
    "    print_traversal(trv)\n",
    "    \n",
    "    if anchor not in paths_dict:\n",
    "        paths_dict[anchor] = [trv]\n",
    "    else:\n",
    "        possible_paths = paths_dict[anchor]\n",
    "        insert = True\n",
    "        for pts in possible_paths:\n",
    "            if is_equal_path(trv,pts):\n",
    "                insert = False\n",
    "                print(\"not accepted\")\n",
    "                break\n",
    "        if insert:\n",
    "            paths_dict[anchor].append(trv)\n",
    "        \n",
    "        \n",
    "print(paths_dict)"
   ]
  },
  {
   "cell_type": "code",
   "execution_count": null,
   "id": "98402108",
   "metadata": {},
   "outputs": [],
   "source": []
  }
 ],
 "metadata": {
  "kernelspec": {
   "display_name": "Python 3 (ipykernel)",
   "language": "python",
   "name": "python3"
  },
  "language_info": {
   "codemirror_mode": {
    "name": "ipython",
    "version": 3
   },
   "file_extension": ".py",
   "mimetype": "text/x-python",
   "name": "python",
   "nbconvert_exporter": "python",
   "pygments_lexer": "ipython3",
   "version": "3.10.13"
  }
 },
 "nbformat": 4,
 "nbformat_minor": 5
}
